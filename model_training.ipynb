{
 "cells": [
  {
   "cell_type": "markdown",
   "metadata": {},
   "source": [
    "# 模型训练\n",
    "\n",
    "## 训练细节：\n",
    "* epochs: 100, batch size: 16, image size: 416, classes: 1\n",
    "* 训练的配置文件： https://github.com/SuyueLiu/yolov3/blob/master/cfg/yolov3-hands.cfg\n",
    "* 数据量：![](https://suyueliu-blog-img.oss-cn-beijing.aliyuncs.com/images/data_percentage.png)"
   ]
  },
  {
   "cell_type": "markdown",
   "metadata": {},
   "source": [
    "刚开始用[PyTorch-YOLOv3](https://github.com/eriklindernoren/PyTorch-YOLOv3)训练模型，在50epochs之后模型的loss 仍然在8左右，并且mAP非常的低。刚开始以为是数据labels转换之后出现错误，但是在验证之后发现是正确的。后面在[ISSUS](https://github.com/eriklindernoren/PyTorch-YOLOv3/issues/112) 上发现，这个是代码实现造成的。既然大神都推荐了，那就换成用U版的吧。"
   ]
  },
  {
   "cell_type": "markdown",
   "metadata": {},
   "source": [
    "## 训练结果：\n",
    "![](https://suyueliu-blog-img.oss-cn-beijing.aliyuncs.com/images/training_results.png)\n",
    "![](https://suyueliu-blog-img.oss-cn-beijing.aliyuncs.com/images/results-epoch100.png)\n",
    "在测试集上，mAP能够达到0.919\n",
    "一些检测结果，我从数据集中随机抽了几张，然后又到网上去找了几张，得到检测结果。\n",
    "\n"
   ]
  },
  {
   "cell_type": "markdown",
   "metadata": {},
   "source": [
    "<img src=\"https://suyueliu-blog-img.oss-cn-beijing.aliyuncs.com/images/0000000181.jpg\" style=\"zoom:30%;\" />\n",
    "\n",
    "<img src=\"https://suyueliu-blog-img.oss-cn-beijing.aliyuncs.com/images/0000001201.jpg\" style=\"zoom:30%;\" />\n",
    "\n",
    "<img src=\"https://suyueliu-blog-img.oss-cn-beijing.aliyuncs.com/images/0000003811.jpg\" style=\"zoom:30%;\" />\n",
    "\n",
    "<img src=\"https://suyueliu-blog-img.oss-cn-beijing.aliyuncs.com/images/0000000781.jpg\" style=\"zoom:30%;\" />\n",
    "\n",
    "<img src=\"https://suyueliu-blog-img.oss-cn-beijing.aliyuncs.com/images/corinne.jpg\" style=\"zoom:30%;\" />\n",
    "\n",
    "<img src=\"https://suyueliu-blog-img.oss-cn-beijing.aliyuncs.com/images/national-cancer-institute.jpg\" style=\"zoom:30%;\" />\n",
    "\n",
    "  \n",
    "<center>   source: https://unsplash.com/s/photos/hands   </center>"
   ]
  },
  {
   "cell_type": "markdown",
   "metadata": {},
   "source": [
    "## 失败的案例：\n",
    "<img src=\"https://suyueliu-blog-img.oss-cn-beijing.aliyuncs.com/images/Handwashing.jpg\" style=\"zoom:30%;\" />\n",
    "\n",
    "<img src=\"https://suyueliu-blog-img.oss-cn-beijing.aliyuncs.com/images/zidane.jpg\" style=\"zoom:30%;\" />\n",
    "\n",
    "<img src=\"https://suyueliu-blog-img.oss-cn-beijing.aliyuncs.com/images/alex-loup.jpg\" style=\"zoom:20%;\" />\n",
    "\n",
    "\n",
    "### 原因\n",
    "我又找了一些图片来做检测，多数为检测出来的照片都不是第一人称视角，另一些是有高度重叠的照片。分析原因可能是数据集的多样性不够高。首先，我是用的照片都是第一人称视角的，虽然这符合项目的预期，但是模型的对其余视角图片的表示能力是有所欠缺的；然后可能是数据里面重叠的图片太少，其实可以采用hard sample mining“特别对待”难检测的图片（重叠的图片）。"
   ]
  },
  {
   "cell_type": "code",
   "execution_count": null,
   "metadata": {},
   "outputs": [],
   "source": []
  }
 ],
 "metadata": {
  "kernelspec": {
   "display_name": "Python 3.7.2 64-bit ('base': conda)",
   "language": "python",
   "name": "python37264bitbaseconda08e1dc3af9ca4fe1894bb78868f6aae6"
  },
  "language_info": {
   "codemirror_mode": {
    "name": "ipython",
    "version": 3
   },
   "file_extension": ".py",
   "mimetype": "text/x-python",
   "name": "python",
   "nbconvert_exporter": "python",
   "pygments_lexer": "ipython3",
   "version": "3.7.2"
  }
 },
 "nbformat": 4,
 "nbformat_minor": 2
}
